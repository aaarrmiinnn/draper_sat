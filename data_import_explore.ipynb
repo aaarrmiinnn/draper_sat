{
 "cells": [
  {
   "cell_type": "code",
   "execution_count": 1,
   "metadata": {
    "collapsed": false
   },
   "outputs": [],
   "source": [
    "import os, glob\n",
    "import pandas as pd\n",
    "import numpy as np\n",
    "import matplotlib.pyplot as plt"
   ]
  },
  {
   "cell_type": "code",
   "execution_count": 2,
   "metadata": {
    "collapsed": false
   },
   "outputs": [],
   "source": [
    "small_train_data_folder = os.getcwd() + '/data/train_sm'\n",
    "small_test_data_folder = os.getcwd() + '/data/test_sm'"
   ]
  },
  {
   "cell_type": "markdown",
   "metadata": {},
   "source": [
    "##### Exploring data dimension"
   ]
  },
  {
   "cell_type": "code",
   "execution_count": 3,
   "metadata": {
    "collapsed": false
   },
   "outputs": [
    {
     "name": "stdout",
     "output_type": "stream",
     "text": [
      "['./data/test_sm/set100_2.jpeg', './data/test_sm/set100_3.jpeg', './data/test_sm/set100_4.jpeg', './data/test_sm/set100_5.jpeg']\n"
     ]
    }
   ],
   "source": [
    "training_jpeg_file_names = [f for f in glob.glob(\"./data/train_sm/*.jpeg\")]\n",
    "test_jpeg_file_names = [f for f in glob.glob(\"./data/test_sm/*.jpeg\")]\n",
    "\n",
    "print test_jpeg_file_names[1:5] #Print a few sample file names"
   ]
  },
  {
   "cell_type": "markdown",
   "metadata": {},
   "source": [
    "##### Converting 2D image into a 1D with 3 RGB features"
   ]
  },
  {
   "cell_type": "code",
   "execution_count": 4,
   "metadata": {
    "collapsed": false
   },
   "outputs": [
    {
     "name": "stdout",
     "output_type": "stream",
     "text": [
      "(2329, 3100, 3)\n"
     ]
    }
   ],
   "source": [
    "sample_data = plt.imread(training_jpeg_file_names[2])\n",
    "dimensions = np.shape(sample_data)\n",
    "print(dimensions)"
   ]
  },
  {
   "cell_type": "code",
   "execution_count": null,
   "metadata": {
    "collapsed": false
   },
   "outputs": [],
   "source": []
  },
  {
   "cell_type": "code",
   "execution_count": null,
   "metadata": {
    "collapsed": false
   },
   "outputs": [],
   "source": []
  },
  {
   "cell_type": "code",
   "execution_count": 27,
   "metadata": {
    "collapsed": false
   },
   "outputs": [],
   "source": [
    "old_dimension = [0,0]\n",
    "files_info = []\n",
    "#all_data = np.ndarray([np.newaxis,np.newaxis])\n",
    "for i, item in enumerate(training_jpeg_file_names[1:4]):\n",
    "    data = np.asarray(plt.imread(item))\n",
    "    dimensions = np.shape(data)\n",
    "    #all_data = np.append(all_data,data,axis=1)\n",
    "    #print np.asarray(all_data).shape\n",
    "    \n",
    "    tag_info = training_jpeg_file_names[i].split('set')[1].split('.')[0].split('_')\n",
    "    files_info.append(np.asarray(tag_info))"
   ]
  },
  {
   "cell_type": "code",
   "execution_count": null,
   "metadata": {
    "collapsed": false
   },
   "outputs": [],
   "source": []
  },
  {
   "cell_type": "code",
   "execution_count": null,
   "metadata": {
    "collapsed": false
   },
   "outputs": [],
   "source": []
  },
  {
   "cell_type": "code",
   "execution_count": null,
   "metadata": {
    "collapsed": true
   },
   "outputs": [],
   "source": []
  },
  {
   "cell_type": "code",
   "execution_count": null,
   "metadata": {
    "collapsed": false
   },
   "outputs": [],
   "source": []
  },
  {
   "cell_type": "code",
   "execution_count": null,
   "metadata": {
    "collapsed": true
   },
   "outputs": [],
   "source": []
  }
 ],
 "metadata": {
  "kernelspec": {
   "display_name": "Python 2",
   "language": "python",
   "name": "python2"
  },
  "language_info": {
   "codemirror_mode": {
    "name": "ipython",
    "version": 2
   },
   "file_extension": ".py",
   "mimetype": "text/x-python",
   "name": "python",
   "nbconvert_exporter": "python",
   "pygments_lexer": "ipython2",
   "version": "2.7.11"
  }
 },
 "nbformat": 4,
 "nbformat_minor": 0
}
